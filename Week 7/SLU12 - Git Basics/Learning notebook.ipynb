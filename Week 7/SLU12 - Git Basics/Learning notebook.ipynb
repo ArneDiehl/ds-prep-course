{
 "cells": [
  {
   "cell_type": "markdown",
   "metadata": {},
   "source": [
    "# SLU12 - Git Basics\n",
    "\n",
    "In this notebook we will be covering the following:\n",
    "\n",
    "- What is Version Control and why do we need it? \n",
    "- How does git work?\n",
    "- Why are we using git?\n",
    "- Creating a repository\n",
    "- Git commands overview"
   ]
  },
  {
   "cell_type": "markdown",
   "metadata": {},
   "source": [
    "## What is Version Control and why do we need it? \n",
    "\n",
    "So all of you have been using Github for quite a while now, but perhaps some of you are still wondering why you are using it. \n",
    "There are two main reasons why version control software are used: collaboration and storing versions properly. Let's try to understand both of them.\n",
    "### Collaboration\n",
    "Wouldn't it be possible, for example, for you to receive the notebooks by e-mail and solve them? In theory it would be possible, but remember how many times we fixed some bugs and kindly asked you to pull again from the repository? Now imagine that you'd receive an email everytime, that would amount to quite a few e-mails right? "
   ]
  },
  {
   "cell_type": "markdown",
   "metadata": {},
   "source": [
    "But some of you may be thinking: well, between having to pull a repo or receiving an e-mail with the new notebooks, the hassle looks more or less the same. And you would be right to think that! So, is GitHub useless and are we just making you use it because we're secretly sadistic? Nope! The truth is that GitHub (or any other version control software for that matter) was really designed to solve the problem of multiple people working on the same code. While that won't happen during the prep course, it is still important for you to know how Git eases the development process when there are multiple people involved, since in the industry almost no developer works alone.    "
   ]
  },
  {
   "cell_type": "markdown",
   "metadata": {},
   "source": [
    "So, let us continue with the e-mail sharing strategy so that you can understand why it does not work. Let's imagine that you have just arrived at a new company where people don't know what's version control and you're gonna be developing code within a team of 5 people. The whole team is working on the same project. So, by the end of the day, each and every one of you sends an e-mail to the other 4 guys in the team with the code that they've done in the day. Next day in the morning, you have to:\n",
    "- Merge the code the other 4 guys have done with yours\n",
    "- If they were changing the same functions that you were, you have to discuss with them to decide which changes are final\n",
    "- Hope that everyone has merged things in the same way so that all five of you have the same code now\n",
    "\n",
    "And this would be repeated every day! Now with 5 people in the team, let's be optimistic and assume that this process takes 2 hours per day. That's a 25% decrease of your working hours! And you're just 5! And the worse thing is that this problem will grow exponentially with the number of people!  "
   ]
  },
  {
   "cell_type": "markdown",
   "metadata": {},
   "source": [
    "With a version control software (like GitHub), everyone starts working with the same codebase and at the end of the day, everyone will merge their work in the initial codebase, ensuring that in the next day, everyone will start working from a common ground again!  And this process can scale to a virtually infinite amount of users! If you're interested in the specifics, stay tuned for the next SLU where we'll learn about git branches!"
   ]
  },
  {
   "cell_type": "markdown",
   "metadata": {},
   "source": [
    "### Storing versions properly\n",
    "\n",
    "Saving a version of your project after making changes is an essential habit. But without a version control software, this becomes tedious and confusing very quickly: \n",
    "- What do you save? Only the changed files or the complete project? In the first case, you'll have a hard time viewing the complete project at any point in time - in the latter case, you'll have huge amounts of unnecessary data lying on your hard drive (one of my ex-colleges at KPMG got to a version 142 of an Excel file!).\n",
    "- And how do you name these versions? If you're a very organized person, you might be able to stick to an actually comprehensible naming scheme. However, as soon as it comes to variants (say, you need to prepare one version with just a summary and one with the whole work), chances are good you'll eventually lose track.  \n",
    "- How do you know what exactly is different in these versions? Very few people actually take the time to carefully document each important change and include this in a README file in the project folder. And even if you do, just maintaining the README will take a lot of work!\n",
    "\n",
    "A version control system acknowledges that there is only one project. Therefore, there's only one version on your disk that you're currently working on. Everything else - all the past versions and variants - are neatly packed up inside the version control system. When/if you need them, you can request any version at any time and you'll have a snapshot of the complete project right at hand."
   ]
  },
  {
   "cell_type": "markdown",
   "metadata": {},
   "source": [
    "## What is a repository?\n",
    "WIP"
   ]
  },
  {
   "cell_type": "markdown",
   "metadata": {},
   "source": [
    "## Creating a repository\n",
    "\n",
    "You've already created a repository by following these instructions: https://github.com/LDSSA/ds-prep-course#setup-git-and-github . Now, you'll learn a little bit more about the README file and the .gitignore file.\n",
    "\n",
    "### README\n",
    "\n",
    "The README is probably the single most important document in a repository. It is the starting point by which when someone arrives at the repo, they know what they should do next and what the repository is all about. It is the documentation of the repo. It uses markdown (which you have learned in the Jupyter Notebook SLU). The .md extension identifies markdown files.\n",
    "\n",
    "### .gitignore\n",
    "\n",
    "The .gitignore is a special file that contains information about other files or directories in your git repo that you never want to commit. \n",
    "It's very easy to accidentally commit a file (especially if you use `git add .` to stage all files in the current directory). That's where a .gitignore file comes in handy. It lets Git know that it should ignore certain files and not track them.\n",
    "So, what types of files would you normally not want to commit?\n",
    "- Any file with more than 100MB, so always include the dataset that you're using\n",
    "- Log files\n",
    "- Files with API keys/secrets, credentials, or sensitive information\n",
    "- Useless system files\n",
    "- Generated files like dist folders\n",
    "- Dependencies which can be downloaded from a package manager\n",
    "\n",
    "There's a nice site which tells you what to ignore depending on your operating system, text editor or IDE, languages, and frameworks: https://www.gitignore.io/\n",
    "\n",
    "To include files in the .gitignore, just type the name of the file. The same thing for directories, except that directories should end with a slash (/). Some slightly more advanced ways of excluding files make use of the wildcard (*). The wildcard matches 0 or more characters. So, for example, if you want to exclude every .log file you would include *.log in your .gitignore. However, when using this rule you may end up ignoring a specific file that you want to commit, e.g. you may want to commit a specific log named important.log and exclude all the others. If that happens, you can use a ! to specifically negate a file that would be ignored, in our example you would include the following line in your .gitignore: !important.log"
   ]
  },
  {
   "cell_type": "markdown",
   "metadata": {},
   "source": [
    "## Creating a repository not hosted on GitHub servers\n",
    "WIP"
   ]
  },
  {
   "cell_type": "markdown",
   "metadata": {},
   "source": [
    "## How does git work?\n",
    "\n",
    "Let us look at another picture: \n",
    "<img width=\"500\" src=\"https://imgur.com/JefNy7n.png\"/>"
   ]
  },
  {
   "cell_type": "markdown",
   "metadata": {},
   "source": [
    "This is the git workflow. It may look complicated, but remember that you've already done most of this stuff! For example, every week you pull the new SLUs from the remote repository! "
   ]
  },
  {
   "cell_type": "markdown",
   "metadata": {},
   "source": [
    "In this SLU we'll cover the add and commit commands in depth, and also 3 commands that albeit not present in the workflow will help you debug any problems that may appear along your git journey. "
   ]
  },
  {
   "cell_type": "markdown",
   "metadata": {},
   "source": [
    "But first, let us understand the workflow. The remote repository is the github repository that is on the github servers. The first question you may have is: why do we need a workspace and a local repository? And why is there a staging area inbetween them? Let me try to explain: the local repository is the “container” that tracks the changes to your project files. It holds all the commits — a snapshot of all your files at a point in time—that have been made. The workspace consists of files that you are currently working on. You can think of the workspace as a file system where you can view and modify files. The staging area is where commits are prepared. The index compares the files in the workspace to the files in the local repository. When you make a change in the workspace, the index marks the file as modified before it is committed."
   ]
  },
  {
   "cell_type": "markdown",
   "metadata": {},
   "source": [
    "Now, why is this important? Mainly for the purpose of separating your commits. Instead of committing all of the changes you've made since the last commit, the stage lets you group related changes before actually committing it to the project history. This means you can make all sorts of edits to unrelated files, then go back and split them up into logical commits by adding related changes to the stage and commit them piece-by-piece. We always want to create atomic commits so that it’s easy to track down bugs and revert changes with minimal impact on the rest of the project."
   ]
  },
  {
   "cell_type": "markdown",
   "metadata": {},
   "source": [
    "## Git status command\n",
    "\n",
    "Git status is a very straightforward command. It basically let's you see the status of your workspace and staging area files. The files in these two areas have 3 possible states:\n",
    "\n",
    "- Staged (files that you've recently used git add on) \n",
    "- Modified (files that you've have not recently used git add on, that were commited in the past but were modified)\n",
    "- Unmodified (files that you've have not recently used git add on, that were commited in the past but were not modified)\n",
    "- Untracked (files that were neither commited nor staged before)\n",
    "\n",
    "In a graphical way:\n",
    "<img width=\"500\" src=\"https://imgur.com/nBgRBls.png\"/>\n",
    "\n",
    "If you've never staged a file, it's not being tracked by git. When you stage a file, it becomes staged until the next commit. After the commit, he goes into the unmodified status.\n",
    "Example of running a git status command where the Learning Notebook is staged, the Exercise Notebook is modified and a txt called NotTracked is untracked:\n",
    "<img width=\"500\" src=\"https://imgur.com/MyB0RSS.png\"/>\n",
    "\n",
    "For copy pasting purposes:\n",
    "- `git status`"
   ]
  },
  {
   "cell_type": "markdown",
   "metadata": {},
   "source": [
    "## Git add command\n",
    "\n",
    "<img width=\"500\" src=\"https://imgur.com/Qit7nJ2.png\"/>\n",
    "\n",
    "The git add command adds a change in the working directory to the staging area. It tells Git that you want to include updates to a particular file in the next commit. However, git add doesn't really affect the repository in any significant way—changes are not actually recorded until you run git commit.\n",
    "Example of running a git add command:\n",
    "<img width=\"500\" src=\"https://imgur.com/8E810IF.png\"/>\n",
    "\n",
    "Can you see the variation in the state of the README? That's what git add does, it stages a file to be commited.\n",
    "\n",
    "By the way I'm using Windows because I have Windows 7 and VMware Workstation Player is malfunctioning :(.\n",
    "\n",
    "<img width=\"200\" src=\"https://imgur.com/7MXhTVQ.png\"/>\n",
    "\n",
    "Useful command options:\n",
    "- If you type `git add <file>` you'll stage all changes in file for the next commit\n",
    "- If you type `git add <file1> <file2>` you'll stage all changes in these two files for the next commit. You can extend this option to an higher number of files\n",
    "- If you type `git add <directory>` you'll stage all changes in the directory for the next commit\n",
    "- If you type `git add .` you'll stage all changes in the workspace for the next commit "
   ]
  },
  {
   "cell_type": "markdown",
   "metadata": {},
   "source": [
    "## Git commit command\n",
    "\n",
    "<img width=\"500\" src=\"https://imgur.com/Dh1vMsm.png\"/>\n",
    "\n",
    "By now you already know what this command does, it simply commits the files with changes that you have in the staging area to the local repository. After using the command this window will appear:\n",
    "<img width=\"600\" src=\"https://imgur.com/Q4BKk6N.png\"/>\n",
    "\n",
    "You'll need to write a commit message, click in ctrl + X to exit, click on Y when asked to save the changes and then click on Enter to confirm the commit file name. If you want to avoid this process, you can write your commit message directly on the git commit command, like this: `git commit -m \"commit message\"`.\n",
    "\n",
    "Other useful command options:\n",
    "- If you type `git commit -a` you'll commit all changes in the working directory. This only includes modifications to tracked files (those that have been added with git add at some point in their history).\n",
    "- If you type `git commit --amend` you'll modify the last commit and staged changes (added with git add) will be added to it."
   ]
  },
  {
   "cell_type": "markdown",
   "metadata": {},
   "source": [
    "## Git diff command\n",
    "Diffing is a function that takes two input data sets (for now you can just think about two files) and outputs the changes between them. The git diff command allows us to apply a diff function on two different git data sources. These data sources can be commits, branches, files and more.\n",
    "Let us start with a simple example. You have a txt file named \"git_diff_example\". In it, you write \"This is a git diff example\". You add and commit the file. Afterwards, you decide to give more details in the file and write \"This is a git diff example using a txt file\". You then run `git diff git_diff_example` to check the differences between the version of the file that is on your local repository (the commited one) and the one that you've just altered:\n",
    "<img width=\"500\" src=\"https://imgur.com/7cZ4v38.png\"/>"
   ]
  },
  {
   "cell_type": "markdown",
   "metadata": {},
   "source": [
    "Let us try to understand this output: \n",
    "- The first line \"diff --git a/Week 7/git_diff_example.txt b/Week 7/git_diff_example\" displays the input sources of the diff. We can see that a/Week 7/git_diff_example.txt and b/Week 7/git_diff_example.txt have been passed to the diff.\n",
    "- The second line \"index f91236f..a7c2589 100644\" displays some internal Git metadata. It is unlikely that you need this information. The numbers correspond to Git object version hash identifiers.\n",
    "- The third and fourth lines \"--- a/Week 7/git_diff_example.txt\" and \"+++ b/Week 7/git_diff_example.txt\" are a legend that assigns symbols to each diff input source. In this case, changes from a/Week 7/git_diff_example.txt are marked with a --- and the changes from b/Week 7/git_diff_example.txt are marked with the +++ symbol.\n",
    "- The last 5 lines of the output are what's called a diff chuck. A diff only displays the sections of the file that have changes. In our current example, we only have one chunk since we're only altering a file that has one line. Let us skip the first line of the diff chuck for now. The content of the diff chunk (except the first line) displays the recent changes. Each changed line is prepended with a + or - symbol indicating which version of the diff input the changes come from. Lines that start with a + sign were added, and lines with a - sign were removed. Lines with no + or - are here just to give us some context of the code. In our simplistic case, both files had no newline at the end of the file. Let us now get back to the first line of the diff chuck. This line is called the chunk header. Each diff chunk is prepended by a header inclosed within @@ symbols. The content of the header is a summary of changes made to the file. In our simplified example, we have -1 +1 which means that line one had changes. Since this is a very simplistic example, let us analyse a more realistic header, for example: \"@@ -34,6 +36,8 @@\". In this header example, starting from line number 34, there are 6 lines that were either removed (would have a - sign) or were there for context. Additionally, starting at line 36, 8 lines were either added (would have a + sign) or were there for context. "
   ]
  },
  {
   "cell_type": "markdown",
   "metadata": {},
   "source": [
    "Understanding the chuck header is difficult. Let's look at another example to make sure that it really sinks in. I have a .txt file called \"git_diff_example_2\" with the following content:\n",
    "<img width=\"300\" src=\"https://imgur.com/dSlVmGs.png\"/>\n",
    "I stage it and commit. And then, I alter its content and it ends up looking like this:\n",
    "<img width=\"300\" src=\"https://imgur.com/dFO52Jw.png\"/>\n",
    "Now, let's look at the git diff output, especially at the chuck header:\n",
    "<img width=\"500\" src=\"https://imgur.com/NVCxtr6.png\"/>"
   ]
  },
  {
   "cell_type": "markdown",
   "metadata": {},
   "source": [
    "So, starting by the \"-1,4\" part: The part of the file that was removed started at line 1 and had 4 lines that were either removed or were there for context. As you can see, the first 3 lines are there for context and the fourth line was removed.\n",
    "Then comes the \"+1, 7\" part. It tells you that the part of the file that was added starts at line 1 and had 7 lines that were either added or were there for context. As you can see, the first 3 lines are context and last 4 lines were added. \n",
    "\n",
    "Useful commands:\n",
    "- `git diff` by itself will show any uncommitted changes since the last commit\n",
    "- `git diff <filepath>` will check the differences between the version of the specified file in the local repository and the version that has been altered"
   ]
  },
  {
   "cell_type": "markdown",
   "metadata": {},
   "source": [
    "## Git log command\n",
    "The git log command is a command to access the commit history of the local repo. It is a very important command to be able to revert to a previous commit, something that you'll also learn to do in the next SLU! For now, you can see what the output of a git log command looks like:\n",
    "<img width=\"500\" src=\"https://imgur.com/Ys9IF79.png\"/>\n",
    "Other useful command options:\n",
    "- If you type `git log -n <limit>` you'll limit the number of commits shown. For example, `git log -n 3` will display only the 3 last commits.\n",
    "- If you type `git log -- stat` you'll include the information of which files were altered and the relative number of lines that were added or deleted from each of them, along with the normal information displayed by `git log`.\n",
    "- If you type `git log --author=\"<pattern>\"` you can filter the commits, only viewing the commits of a particular author. For those of you that are familar with regular expressions, you can also use a regular expression instead of a string.\n",
    "- If you type `git log --grep=\"<pattern>\"` you can again filter the commits, this time by searching for a specific pattern in the commit. One example would be to filter commits that mention a specific detail you're interested in. Again, you can search for a string or use a regular expression.\n",
    "- If you type `git log <file>` you'll only see commits that include the specific file."
   ]
  },
  {
   "cell_type": "markdown",
   "metadata": {},
   "source": [
    "## Summary Workflow\n",
    "WIP"
   ]
  },
  {
   "cell_type": "markdown",
   "metadata": {},
   "source": [
    "## GitHub and other Version Control software\n",
    "\n",
    "Finally, we could have choose another version control software like GitLab, Bitbucket, AWS code commit... And that would be a fine decision since these softwares tend to work really well and all of them would fit our needs.\n",
    "These softwares are basically a cloud for git repos and choosing one is a matter of trying them and see which one best suits you!"
   ]
  },
  {
   "cell_type": "markdown",
   "metadata": {},
   "source": [
    "So that's it! Hope you've enjoyed this Learning Notebook and please take your time to assimilate all the concepts. The Exercise Notebook is multiple choice so it's really important that you have a good grasp of everything before starting it. Good luck!"
   ]
  }
 ],
 "metadata": {
  "kernelspec": {
   "display_name": "Python 3",
   "language": "python",
   "name": "python3"
  },
  "language_info": {
   "codemirror_mode": {
    "name": "ipython",
    "version": 3
   },
   "file_extension": ".py",
   "mimetype": "text/x-python",
   "name": "python",
   "nbconvert_exporter": "python",
   "pygments_lexer": "ipython3",
   "version": "3.7.3"
  }
 },
 "nbformat": 4,
 "nbformat_minor": 2
}
