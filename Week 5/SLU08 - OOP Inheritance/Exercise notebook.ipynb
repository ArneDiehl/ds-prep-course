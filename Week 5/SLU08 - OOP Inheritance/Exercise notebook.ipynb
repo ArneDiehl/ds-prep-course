{
 "cells": [
  {
   "cell_type": "markdown",
   "metadata": {
    "deletable": false,
    "editable": false,
    "nbgrader": {
     "grade": false,
     "grade_id": "cell-914a8ceb7dcb0b1a",
     "locked": true,
     "schema_version": 3,
     "solution": false,
     "task": false
    }
   },
   "source": [
    "# SLU8 Object Oriented Programming | Inheritance: Exercise Notebook\n",
    "\n",
    "***"
   ]
  },
  {
   "cell_type": "markdown",
   "metadata": {
    "deletable": false,
    "editable": false,
    "nbgrader": {
     "grade": false,
     "grade_id": "cell-4bf5d182a067628a",
     "locked": true,
     "schema_version": 3,
     "solution": false,
     "task": false
    }
   },
   "source": [
    "### Part 1\n",
    "#### Exercise 1\n",
    "\n",
    "Create a class named `Vehicle()` and define the `__init__()` method of the created class to take four inputs:\n",
    "\n",
    "1. self\n",
    "2. model\n",
    "3. color\n",
    "4. year\n",
    "5. engine_type\n",
    "\n",
    "\n",
    "Now, do the following:\n",
    "- Assign these inputs to member variables of the same name by using the self keyword.\n",
    "\n",
    "- Define an extra variable in the `__init__()` method, without user input, called `condition` and with default value of **\"new\"**.\n",
    "\n",
    "- Create a `drive_it()` method that will override the vehicle condition to the string **\"used\"**\n",
    "\n",
    "In the end, create the `my_car` object for a **1985** **silver** **\"DeLorean\"** with a **combustion** engine\n",
    "\n"
   ]
  },
  {
   "cell_type": "code",
   "execution_count": null,
   "metadata": {
    "deletable": false,
    "nbgrader": {
     "grade": false,
     "grade_id": "cell-152d925316906cc7",
     "locked": false,
     "schema_version": 3,
     "solution": true,
     "task": false
    }
   },
   "outputs": [],
   "source": [
    "class Vehicle:\n",
    "   \n",
    "    # YOUR CODE HERE\n",
    "    raise NotImplementedError()\n",
    "    "
   ]
  },
  {
   "cell_type": "code",
   "execution_count": null,
   "metadata": {
    "deletable": false,
    "editable": false,
    "nbgrader": {
     "grade": true,
     "grade_id": "cell-d6fb846dc8915dc9",
     "locked": true,
     "points": 2,
     "schema_version": 3,
     "solution": false,
     "task": false
    }
   },
   "outputs": [],
   "source": [
    "assert my_car.model == 'DeLorean'\n",
    "assert my_car.color == 'silver'\n",
    "assert my_car.year == 1985\n",
    "assert my_car.engine_type == 'combustion'\n",
    "assert my_car.condition == 'new'\n",
    "\n",
    "print(\"\"\"If my calculations are correct, you are a proud owner of a brand %s, %s %s %s with a %s engine!\n",
    "That's heavy!\"\"\" % (my_car.condition,\n",
    "                    my_car.year,\n",
    "                    my_car.color,\n",
    "                    my_car.model,\n",
    "                    my_car.engine_type))"
   ]
  },
  {
   "cell_type": "markdown",
   "metadata": {
    "deletable": false,
    "editable": false,
    "nbgrader": {
     "grade": false,
     "grade_id": "cell-5e32eccadeb9f6c3",
     "locked": true,
     "schema_version": 3,
     "solution": false,
     "task": false
    }
   },
   "source": [
    "<img src=\"./assets/delorean.jpg\" width=\"400\"/>\n",
    "\n",
    "***"
   ]
  },
  {
   "cell_type": "markdown",
   "metadata": {
    "deletable": false,
    "editable": false,
    "nbgrader": {
     "grade": false,
     "grade_id": "cell-08c7b90be698ce77",
     "locked": true,
     "schema_version": 3,
     "solution": false,
     "task": false
    }
   },
   "source": [
    "#### Exercise 2\n",
    "Now just go and take you brand new car for a spin, using the `drive_it()` method of your `my_car` object."
   ]
  },
  {
   "cell_type": "code",
   "execution_count": null,
   "metadata": {
    "deletable": false,
    "nbgrader": {
     "grade": false,
     "grade_id": "cell-49ead50591e8361d",
     "locked": false,
     "schema_version": 3,
     "solution": true,
     "task": false
    }
   },
   "outputs": [],
   "source": [
    "\n",
    "# YOUR CODE HERE\n",
    "raise NotImplementedError()\n",
    "\n",
    "# after driving it for the first time, you vehicle condition will be updated:\n",
    "print(my_car.condition)"
   ]
  },
  {
   "cell_type": "code",
   "execution_count": null,
   "metadata": {
    "deletable": false,
    "editable": false,
    "nbgrader": {
     "grade": true,
     "grade_id": "cell-c48e251cfd4b31e2",
     "locked": true,
     "points": 1,
     "schema_version": 3,
     "solution": false,
     "task": false
    }
   },
   "outputs": [],
   "source": [
    "assert my_car.condition == 'used', \"The condition of your car is not correct. Make sure you use the 'drive_it()' method\"\n",
    "print(\"I am sorry to inform you that the condition of your beloved DeLorean is now \" + my_car.condition + \"!\")"
   ]
  },
  {
   "cell_type": "markdown",
   "metadata": {
    "deletable": false,
    "editable": false,
    "nbgrader": {
     "grade": false,
     "grade_id": "cell-2879860ebd26c27c",
     "locked": true,
     "schema_version": 3,
     "solution": false,
     "task": false
    }
   },
   "source": [
    "#### Exercise 3\n",
    "\n",
    "As seen before, one of the benefits of classes is that we can create more complicated classes that inherit variables or methods from their **parent classes**. This saves us time and helps us build more complicated objects, since these **child classes** can also include additional variables or methods.\n",
    "+ Create an `EletricalVehicle` class that **inherits** from `Vehicle`;\n",
    "+ Create a new method `battery_level()` that returns a (pseudo)random integer from 1 to 100 *\n",
    "+ Then, create an eletrical vehicle named `my_tesla`, for a **2020 black Model_S** with an engine type of **molten salt battery**\n",
    "\n",
    "Make sure that `my_tesla` belongs to `EletricalVehicle` Class.\n",
    "\n",
    "***** the `random` package is already imported in the first line, it has function `randint()` for generating pseudo-random integers."
   ]
  },
  {
   "cell_type": "code",
   "execution_count": null,
   "metadata": {
    "deletable": false,
    "nbgrader": {
     "grade": false,
     "grade_id": "cell-9d9a01b72fa64213",
     "locked": false,
     "schema_version": 3,
     "solution": true,
     "task": false
    }
   },
   "outputs": [],
   "source": [
    "import random\n",
    "\n",
    "# YOUR CODE HERE\n",
    "raise NotImplementedError()"
   ]
  },
  {
   "cell_type": "code",
   "execution_count": null,
   "metadata": {
    "deletable": false,
    "editable": false,
    "nbgrader": {
     "grade": true,
     "grade_id": "cell-7722214f55e01cee",
     "locked": true,
     "points": 2,
     "schema_version": 3,
     "solution": false,
     "task": false
    }
   },
   "outputs": [],
   "source": [
    "# __init__() tests:\n",
    "assert my_tesla.model == 'Model_S'\n",
    "assert my_tesla.color == 'black'\n",
    "assert my_tesla.year == 2020\n",
    "assert my_tesla.engine_type == 'molten salt battery'\n",
    "assert my_tesla.condition == 'new'\n",
    "\n",
    "# battery level tests:\n",
    "assert (my_tesla.battery_level() >= 1) & (my_tesla.battery_level() <= 100)\n",
    "\n",
    "# isistance tests:\n",
    "assert (isinstance(my_tesla, EletricalVehicle)) == True, 'my_tesla must belong to the EletricalVehicle Child Class'\n",
    "assert (isinstance(my_tesla, Vehicle)) == True, 'my_tesla must belong to the Vehicle Parent Class'\n",
    "assert (isinstance(my_car, Vehicle)) == True\n",
    "assert (isinstance(my_car, EletricalVehicle)) == False\n",
    "\n",
    "print(\"\"\"Woah, Nikolas would be proud!\n",
    "A %s, %s %s %s with a %s!\n",
    "Again...That's heavy!\"\"\" % (my_tesla.condition,\n",
    "                    my_tesla.year,\n",
    "                    my_tesla.color,\n",
    "                    my_tesla.model,\n",
    "                    my_tesla.engine_type))\n",
    "print('')\n",
    "print(isinstance(my_tesla, EletricalVehicle),'my_tesla belongs to the EletricalVehicle Child Class.')\n",
    "print(isinstance(my_tesla, EletricalVehicle),'my_tesla belongs to the Vehicle Parent Class.')"
   ]
  },
  {
   "cell_type": "markdown",
   "metadata": {
    "deletable": false,
    "editable": false,
    "nbgrader": {
     "grade": false,
     "grade_id": "cell-aed5a9a8196a5309",
     "locked": true,
     "schema_version": 3,
     "solution": false,
     "task": false
    }
   },
   "source": [
    "<img src=\"./assets/tesla_edison_jk.jpg\" width=\"400\"/>\n",
    "\n",
    "***"
   ]
  },
  {
   "cell_type": "markdown",
   "metadata": {
    "deletable": false,
    "editable": false,
    "nbgrader": {
     "grade": false,
     "grade_id": "cell-889c4f738ce52759",
     "locked": true,
     "schema_version": 3,
     "solution": false,
     "task": false
    }
   },
   "source": [
    "### Part 2\n",
    "#### Exercise 4\n",
    "Start by creating a new class `Rectangle` with the following:\n",
    "+ Attributes:\n",
    "    - **length**\n",
    "    - **width**\n",
    "+ Methods:\n",
    "    - `area()`\n",
    "    - `perimeter()`"
   ]
  },
  {
   "cell_type": "code",
   "execution_count": null,
   "metadata": {
    "deletable": false,
    "nbgrader": {
     "grade": false,
     "grade_id": "cell-e1f05519ef39b0f6",
     "locked": false,
     "schema_version": 3,
     "solution": true,
     "task": false
    }
   },
   "outputs": [],
   "source": [
    "# class Rectangle():\n",
    "# YOUR CODE HERE\n",
    "raise NotImplementedError()"
   ]
  },
  {
   "cell_type": "code",
   "execution_count": null,
   "metadata": {
    "deletable": false,
    "editable": false,
    "nbgrader": {
     "grade": true,
     "grade_id": "cell-c0da80882a9d38bc",
     "locked": true,
     "points": 2,
     "schema_version": 3,
     "solution": false,
     "task": false
    }
   },
   "outputs": [],
   "source": [
    "# considering a 10,50 m by 20,50 m rectangle:\n",
    "r = Rectangle(10.50, 20.50)\n",
    "assert r.area() == 215.25, 'Area computation is not correct!'\n",
    "assert r.perimeter() == 62.0, 'Perimeter computation is not correct'"
   ]
  },
  {
   "cell_type": "markdown",
   "metadata": {
    "deletable": false,
    "editable": false,
    "nbgrader": {
     "grade": false,
     "grade_id": "cell-d4d7a73e1d86f888",
     "locked": true,
     "schema_version": 3,
     "solution": false,
     "task": false
    }
   },
   "source": [
    "#### Exercise 5\n",
    "Create a `Square` class, as a child of the `Rectangle` class. Change only the `__init__()` method in a way that now it only accepts one argument 'side'. You can call the init method from the parent class and assign both length and width to be equal to 'side'\n",
    "\n",
    "(hint: use the `super()` method)"
   ]
  },
  {
   "cell_type": "code",
   "execution_count": null,
   "metadata": {
    "deletable": false,
    "nbgrader": {
     "grade": false,
     "grade_id": "cell-9262f02e916a66f1",
     "locked": false,
     "schema_version": 3,
     "solution": true,
     "task": false
    }
   },
   "outputs": [],
   "source": [
    "# class Square\n",
    "# YOUR CODE HERE\n",
    "raise NotImplementedError()"
   ]
  },
  {
   "cell_type": "code",
   "execution_count": null,
   "metadata": {
    "deletable": false,
    "editable": false,
    "nbgrader": {
     "grade": true,
     "grade_id": "cell-0d959343e7bd5637",
     "locked": true,
     "points": 1,
     "schema_version": 3,
     "solution": false,
     "task": false
    }
   },
   "outputs": [],
   "source": [
    "# considering a 10,50 m by 10,50 m square:\n",
    "s = Square(10.50)\n",
    "\n",
    "assert s.area() == 110.25, 'Area computation is not correct!'\n",
    "assert s.perimeter() == 42.0, 'Perimeter computation is not correct'"
   ]
  },
  {
   "cell_type": "markdown",
   "metadata": {
    "deletable": false,
    "editable": false,
    "nbgrader": {
     "grade": false,
     "grade_id": "cell-74b8cff6a547f994",
     "locked": true,
     "schema_version": 3,
     "solution": false,
     "task": false
    }
   },
   "source": [
    "#### Exercise 6\n",
    "\n",
    "Create a new class `Triangle`:\n",
    "+ Attributes:\n",
    "    - **base**\n",
    "    - **height**\n",
    "+ Methods:\n",
    "    - `tri_area()` which calculates the area of the triangle (do you remember the formula? :D)"
   ]
  },
  {
   "cell_type": "code",
   "execution_count": null,
   "metadata": {
    "deletable": false,
    "nbgrader": {
     "grade": false,
     "grade_id": "cell-361d990792a542f3",
     "locked": false,
     "schema_version": 3,
     "solution": true,
     "task": false
    }
   },
   "outputs": [],
   "source": [
    "# class Triangle\n",
    "# YOUR CODE HERE\n",
    "raise NotImplementedError()"
   ]
  },
  {
   "cell_type": "code",
   "execution_count": null,
   "metadata": {
    "deletable": false,
    "editable": false,
    "nbgrader": {
     "grade": true,
     "grade_id": "cell-a0f3c54e307aeee9",
     "locked": true,
     "points": 1,
     "schema_version": 3,
     "solution": false,
     "task": false
    }
   },
   "outputs": [],
   "source": [
    "t = Triangle(10, 20)\n",
    "\n",
    "assert t.tri_area() == 100, 'The area of the triangle is miscalculated!'\n",
    "\n",
    "print(\"The area, in cm2, of our triangle is \", t.tri_area())"
   ]
  },
  {
   "cell_type": "markdown",
   "metadata": {
    "deletable": false,
    "editable": false,
    "nbgrader": {
     "grade": false,
     "grade_id": "cell-987a4c76dceed9a1",
     "locked": true,
     "schema_version": 3,
     "solution": false,
     "task": false
    }
   },
   "source": [
    "#### Exercise 7\n",
    "\n",
    "Now for the `RightPyramid` class, create methods that compute the area of this geometric solid using both the `Square` and `Triangle` classes as parents.\n",
    "\n",
    "Override the `area()` method in order to compute the equation of the RightPyramid area. **Hint:** use the `super()` function to  make everything easier.\n",
    "\n",
    "<img src=\"assets/pyramid.png\" width=\"400\"/>\n",
    "\n",
    "+ Attributes:\n",
    "    - **base**\n",
    "    - **slant_height**\n",
    "+ Methods:\n",
    "    - `area()`"
   ]
  },
  {
   "cell_type": "code",
   "execution_count": null,
   "metadata": {
    "deletable": false,
    "nbgrader": {
     "grade": false,
     "grade_id": "cell-18e78aa00977daf8",
     "locked": false,
     "schema_version": 3,
     "solution": true,
     "task": false
    }
   },
   "outputs": [],
   "source": [
    "# class RightPyramid\n",
    "# YOUR CODE HERE\n",
    "raise NotImplementedError()"
   ]
  },
  {
   "cell_type": "code",
   "execution_count": null,
   "metadata": {
    "deletable": false,
    "editable": false,
    "nbgrader": {
     "grade": true,
     "grade_id": "cell-7a3b92fb1669680d",
     "locked": true,
     "points": 3,
     "schema_version": 3,
     "solution": false,
     "task": false
    }
   },
   "outputs": [],
   "source": [
    "rp = RightPyramid(10, 20)\n",
    "\n",
    "print(rp.area())\n",
    "\n",
    "assert isinstance(rp, RightPyramid)\n",
    "assert isinstance(rp, Square), 'Probably your class is not properly defined, should be a child class of the Square classe'\n",
    "assert isinstance(rp, Triangle), 'Probably your class is not properly defined, should be a child class of the Triangle classe'\n",
    "assert rp.area() == 500, 'The area of the right pyramid is miscalculated!'\n"
   ]
  },
  {
   "cell_type": "markdown",
   "metadata": {
    "deletable": false,
    "editable": false,
    "nbgrader": {
     "grade": false,
     "grade_id": "cell-fefa81e15425edc0",
     "locked": true,
     "schema_version": 3,
     "solution": false,
     "task": false
    }
   },
   "source": [
    "***"
   ]
  },
  {
   "cell_type": "markdown",
   "metadata": {
    "deletable": false,
    "editable": false,
    "nbgrader": {
     "grade": false,
     "grade_id": "cell-aa3d24a15a390c12",
     "locked": true,
     "schema_version": 3,
     "solution": false,
     "task": false
    }
   },
   "source": [
    "### Part 3\n",
    "\n",
    "In the following exercice the goal it is to create a BankAccount program, composed by one parent class and two child classes, in order to manage the clients accounts, either through the main (current) account or the savings account.\n",
    "\n",
    "This is the general idea:\n",
    "\n",
    "<img src=\"assets/bank_account.jpg\" width=\"400\"/>\n",
    "\n",
    "\n",
    "\n",
    "#### Exercise 8\n",
    "\n",
    "First things first, the `BankAccount` class:\n",
    "\n",
    "+ Attributes:\n",
    "    - **costumer**\n",
    "    - **account_number**\n",
    "    - **balance** with default value of 0 (zero)\n",
    "+ Methods:\n",
    "    - `deposit()`: deposit **amount** into the bank account. (increase the balance). If the **amount** is invalid (< 0) it should print an alert message to the user.\n",
    "    - `withdraw()`: withdraw **amount** from the bank account. (decrease the balance). This method must ensure that the account has sufficient funds for the asked **amount**. Again, it should be > 0. Print an alert if the value is less than zero or if it's bigger than the balance\n",
    "    - `check_balance()`: print a statement of the account balance, example _\"The balance of account number 48522888 is €1000\"_"
   ]
  },
  {
   "cell_type": "code",
   "execution_count": null,
   "metadata": {
    "deletable": false,
    "nbgrader": {
     "grade": false,
     "grade_id": "cell-aec63d5088ce5f30",
     "locked": false,
     "schema_version": 3,
     "solution": true,
     "task": false
    }
   },
   "outputs": [],
   "source": [
    "class BankAccount:\n",
    "    \"\"\"\n",
    "    Abstract base class representing a bank account\n",
    "    \"\"\"\n",
    "    currency = '€'\n",
    "    # YOUR CODE HERE\n",
    "    raise NotImplementedError()"
   ]
  },
  {
   "cell_type": "code",
   "execution_count": null,
   "metadata": {
    "deletable": false,
    "editable": false,
    "nbgrader": {
     "grade": true,
     "grade_id": "cell-5fb3aa9dc9bb6e4c",
     "locked": true,
     "points": 2,
     "schema_version": 3,
     "solution": false,
     "task": false
    }
   },
   "outputs": [],
   "source": [
    "# Start by creating a new account:\n",
    "my_account = BankAccount('John Doe', 21457288)\n",
    "\n",
    "\n",
    "# assert the class:\n",
    "assert isinstance(my_account, BankAccount) == True, 'Your class is not properly defined'\n",
    "\n",
    "# assert the properties of the class:\n",
    "assert my_account.account_number == 21457288, 'You have to define an \"account_number\" attribute for your class!'\n",
    "assert my_account.costumer == 'John Doe', 'You have to define a \"costumer\" attribute for your class!'\n",
    "assert my_account.balance == 0, 'The default value of \"balance\" should be 0!'\n",
    "assert my_account.currency == '€', 'Currency symbol is not working... Did you change the existing line?'\n",
    "\n",
    "print(\"Nice, the account for %s was successfully created. His account number is %s and for now is account is empty. \\n\"\n",
    "     % (my_account.costumer, my_account.account_number))\n",
    "\n",
    "# Lets deposit that big, fat check !\n",
    "my_account.deposit(25000)\n",
    "\n",
    "assert my_account.balance == 25000, 'Your balance, after making a deposit should change!'\n",
    "\n",
    "print(\"%s just made a deposit of €25'000. His new account balance is: %s%s \\n\"\n",
    "      %(my_account.costumer, my_account.currency, my_account.balance) )\n",
    "\n",
    "# And then just go shopping (online... better be online nowadays):\n",
    "my_account.withdraw(2250)\n",
    "\n",
    "assert my_account.balance == 22750, 'Your balance, after making a withdrawal should change or it is not correct!'"
   ]
  },
  {
   "cell_type": "code",
   "execution_count": null,
   "metadata": {
    "deletable": false,
    "editable": false,
    "nbgrader": {
     "grade": true,
     "grade_id": "cell-aaeb81da6d6cc191",
     "locked": true,
     "points": 1,
     "schema_version": 3,
     "solution": false,
     "task": false
    }
   },
   "outputs": [],
   "source": [
    "# Finally let's ensure that your program does not accept invalid operations:\n",
    "my_account.deposit(-10)\n",
    "my_account.withdraw(-10)\n",
    "assert my_account.balance == 22750, 'Your balance, after making an invalid deposit should not change!'"
   ]
  },
  {
   "cell_type": "markdown",
   "metadata": {
    "deletable": false,
    "editable": false,
    "nbgrader": {
     "grade": false,
     "grade_id": "cell-116e60b65541ac56",
     "locked": true,
     "schema_version": 3,
     "solution": false,
     "task": false
    }
   },
   "source": [
    "#### Exercise 9\n",
    "\n",
    "Next we need to develop the `SavingsAccount` class, as a child class for `BankAccount`:\n",
    "\n",
    "+ Attributes:\n",
    "    - *interest_rate*\n",
    "    - All the BankAccount attributes\n",
    "    \n",
    "+ Methods:\n",
    "    - `add_interest()`: add interest to the account at the rate *interest_rate*, thus updating the account balance."
   ]
  },
  {
   "cell_type": "code",
   "execution_count": null,
   "metadata": {
    "deletable": false,
    "nbgrader": {
     "grade": false,
     "grade_id": "cell-8f1a5436b1aa5fd0",
     "locked": false,
     "schema_version": 3,
     "solution": true,
     "task": false
    }
   },
   "outputs": [],
   "source": [
    "# class SavingsAccount...\n",
    "\n",
    "# YOUR CODE HERE\n",
    "raise NotImplementedError()"
   ]
  },
  {
   "cell_type": "code",
   "execution_count": null,
   "metadata": {
    "deletable": false,
    "editable": false,
    "nbgrader": {
     "grade": true,
     "grade_id": "cell-2e5fd33c1f193d5a",
     "locked": true,
     "points": 2,
     "schema_version": 3,
     "solution": false,
     "task": false
    }
   },
   "outputs": [],
   "source": [
    "# Creating a new savings account:\n",
    "my_savings = SavingsAccount('Jane Doe', 41522887, 0.55, 10000)\n",
    "\n",
    "# assert the class:\n",
    "assert isinstance(my_savings, SavingsAccount) == True, 'Your class is not properly defined'\n",
    "assert isinstance(my_savings, BankAccount) == True, 'Your class has no relation with the BankAccount class'\n",
    "\n",
    "# assert the properties of the class:\n",
    "assert my_savings.account_number == 41522887, 'You have to define an \"account_number\" attribute for your class!'\n",
    "assert my_savings.costumer == 'Jane Doe', 'You have to define a \"costumer\" attribute for your class!'\n",
    "assert my_savings.balance == 10000, 'The default value of \"balance\" should be 0!'\n",
    "assert my_savings.currency == '€', 'Currency symbol is not working... Did you changed the existing line?'\n",
    "\n",
    "print(\"Nice, the account for %s was successfully created. Her account number is %s. \\n\"\n",
    "     % (my_savings.costumer, my_savings.account_number))\n",
    "\n",
    "# Check account balance:\n",
    "print(\"Checking account balance before interest:\")\n",
    "my_savings.check_balance()\n",
    "\n",
    "# adding some interest to the existing account:\n",
    "my_savings.add_interest()\n",
    "print(\"\\nChecking account balance after interest:\")\n",
    "my_savings.check_balance()\n",
    "\n",
    "assert my_savings.balance == 10055, \"Maybe the created savings account is not generating any interest!\""
   ]
  },
  {
   "cell_type": "markdown",
   "metadata": {
    "deletable": false,
    "editable": false,
    "nbgrader": {
     "grade": false,
     "grade_id": "cell-906ed21665e3fbd0",
     "locked": true,
     "schema_version": 3,
     "solution": false,
     "task": false
    }
   },
   "source": [
    "#### Exercise 10\n",
    "\n",
    "Finally we need to implement the `CurrentAccount` class, as a child class for `BankAccount`, that has a similar structure of the previous exercise:\n",
    "\n",
    "+ Attributes:\n",
    "    - **annual_fee**\n",
    "    - **transaction_limit**\n",
    "    - All the BankAccount attributes\n",
    "    \n",
    "+ Methods:\n",
    "    - `withdraw()`: override the parent class method and create an if clause with an extra condition, in order to limit the possible amount that a person can withdraw from a Current Account daily. **Hint:** use the *transaction_limit* variable you just initialized.\n",
    "    - `apply_annual_fee()`: Deduct the annual fee from the account balance, making sure that the account never goes negative! **Hint:** use python's `max()` function"
   ]
  },
  {
   "cell_type": "code",
   "execution_count": null,
   "metadata": {
    "deletable": false,
    "nbgrader": {
     "grade": false,
     "grade_id": "cell-6d21acc19869fec0",
     "locked": false,
     "schema_version": 3,
     "solution": true,
     "task": false
    }
   },
   "outputs": [],
   "source": [
    "# class CurrentAccount...\n",
    "\n",
    "# YOUR CODE HERE\n",
    "raise NotImplementedError()"
   ]
  },
  {
   "cell_type": "code",
   "execution_count": null,
   "metadata": {
    "deletable": false,
    "editable": false,
    "nbgrader": {
     "grade": true,
     "grade_id": "cell-4f6963493a0e8fe9",
     "locked": true,
     "points": 1,
     "schema_version": 3,
     "solution": false,
     "task": false
    }
   },
   "outputs": [],
   "source": [
    "# create a new current account:\n",
    "my_current = CurrentAccount('Richard Roe', 78300991, 20., 200.)\n",
    "\n",
    "# assert the class:\n",
    "assert isinstance(my_current, CurrentAccount) == True, 'Your class is not properly defined'\n",
    "assert isinstance(my_current, BankAccount) == True, 'Your class has no relation with the BankAccount class'\n",
    "\n",
    "# assert the properties of the class:\n",
    "assert my_current.account_number == 78300991, 'You have to define an \"account_number\" attribute for your class!'\n",
    "assert my_current.costumer == 'Richard Roe', 'You have to define a \"costumer\" attribute for your class!'\n",
    "assert my_current.balance == 0, 'The default value of \"balance\" should be 0!'\n",
    "assert my_current.currency == '€', 'Currency symbol is not working... Did you changed the existing line?'\n",
    "\n",
    "print(\"Nice, the account for %s was successfully created. Her account number is %s and for now is account is empty.\\n\"\n",
    "     % (my_savings.costumer, my_savings.account_number))"
   ]
  },
  {
   "cell_type": "code",
   "execution_count": null,
   "metadata": {
    "deletable": false,
    "editable": false,
    "nbgrader": {
     "grade": true,
     "grade_id": "cell-650af470af428235",
     "locked": true,
     "points": 1,
     "schema_version": 3,
     "solution": false,
     "task": false
    }
   },
   "outputs": [],
   "source": [
    "# Witdhraw more than balance:\n",
    "my_current.withdraw(220)\n",
    "\n",
    "assert my_current.balance == 0, \"The created current account must not authorize withdraws when the amount is higher than the account balance\""
   ]
  },
  {
   "cell_type": "code",
   "execution_count": null,
   "metadata": {
    "deletable": false,
    "editable": false,
    "nbgrader": {
     "grade": true,
     "grade_id": "cell-8f5b292e2c0a7fc0",
     "locked": true,
     "points": 1,
     "schema_version": 3,
     "solution": false,
     "task": false
    }
   },
   "outputs": [],
   "source": [
    "# Making a new deposit and checking balance:\n",
    "my_current.deposit(750)\n",
    "my_current.check_balance()\n",
    "\n",
    "# New withdraw (should be blocked by limit):\n",
    "my_current.withdraw(220)\n",
    "assert my_current.balance == 750\n",
    "\n",
    "# Charge current account annual fee:\n",
    "my_current.apply_annual_fee()\n",
    "print(\"\\nChecking account balance after annual fee:\")\n",
    "my_current.check_balance()\n",
    "assert my_current.balance == 730"
   ]
  },
  {
   "cell_type": "markdown",
   "metadata": {
    "deletable": false,
    "editable": false,
    "nbgrader": {
     "grade": false,
     "grade_id": "cell-b045e1dfd809b848",
     "locked": true,
     "schema_version": 3,
     "solution": false,
     "task": false
    }
   },
   "source": [
    "#### End of the SLU8 Exercise Notebook."
   ]
  }
 ],
 "metadata": {
  "kernelspec": {
   "display_name": "Python 3",
   "language": "python",
   "name": "python3"
  },
  "language_info": {
   "codemirror_mode": {
    "name": "ipython",
    "version": 3
   },
   "file_extension": ".py",
   "mimetype": "text/x-python",
   "name": "python",
   "nbconvert_exporter": "python",
   "pygments_lexer": "ipython3",
   "version": "3.7.5"
  }
 },
 "nbformat": 4,
 "nbformat_minor": 4
}
